{
 "cells": [
  {
   "cell_type": "markdown",
   "metadata": {
    "slideshow": {
     "slide_type": "-"
    }
   },
   "source": [
    "## 2.2 単純な論理回路\n",
    "### 2.2.1 ANDゲート\n",
    "ANDゲートは、以下の表のように2つの入力が1の時だけ1を返し、それ以外は0を出力する\n",
    "\n",
    "| $x_1$ | $x_2$ | $y$ |\n",
    "| ---- | ---- | ---- |\n",
    "| 0 | 0 | 0 |\n",
    "| 1 | 0 | 0 |\n",
    "| 0 | 1 | 0 |\n",
    "| 1 | 1 | 1 |\n",
    "\n",
    "これをパーセプトロンで表現したい。\n",
    "$$\n",
    "y=\\begin{cases}\n",
    "0 & (w_1x_1+w_2x_2 \\leq \\theta)\\\\\n",
    "1 & (w_1x_1+w_2x_2 > \\theta)\n",
    "\\end{cases}\n",
    "$$"
   ]
  },
  {
   "cell_type": "markdown",
   "metadata": {},
   "source": [
    "ANDゲートを実現できるパラメータ$(w_1,w_2,\\theta)$は無限にある。\n",
    "\n",
    "例えば、$(w_1,w_2,\\theta)=(0.5,0.5,0.7),(1.0,1.0,1.0)$など"
   ]
  },
  {
   "cell_type": "markdown",
   "metadata": {},
   "source": [
    "## 2.2.2 NAND、ORゲート\n",
    "\n",
    "- NANDゲート\n",
    "\n",
    "| $x_1$ | $x_2$ | $y$ |\n",
    "| ---- | ---- | ---- |\n",
    "| 0 | 0 | 1 |\n",
    "| 1 | 0 | 1 |\n",
    "| 0 | 1 | 1 |\n",
    "| 1 | 1 | 0 |\n",
    "\n",
    "- ORゲート\n",
    "\n",
    "| $x_1$ | $x_2$ | $y$ |\n",
    "| ---- | ---- | ---- |\n",
    "| 0 | 0 | 0 |\n",
    "| 1 | 0 | 1 |\n",
    "| 0 | 1 | 1 |\n",
    "| 1 | 1 | 1 |"
   ]
  }
 ],
 "metadata": {
  "kernelspec": {
   "display_name": "Python 3",
   "language": "python",
   "name": "python3"
  },
  "language_info": {
   "codemirror_mode": {
    "name": "ipython",
    "version": 3
   },
   "file_extension": ".py",
   "mimetype": "text/x-python",
   "name": "python",
   "nbconvert_exporter": "python",
   "pygments_lexer": "ipython3",
   "version": "3.7.0"
  }
 },
 "nbformat": 4,
 "nbformat_minor": 2
}
