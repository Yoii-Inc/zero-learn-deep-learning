{
 "cells": [
  {
   "cell_type": "markdown",
   "metadata": {},
   "source": [
    "## 2.5 多層パーセプトロン\n",
    "単一のパーセプトロンではXORゲートを分類できないが、「複数重ねる」ことでできる\n",
    "### 2.5.1 既存ゲートの組み合わせ\n",
    "AND, NAND,ORを組み合わせることで、XORを作ることができる"
   ]
  },
  {
   "cell_type": "markdown",
   "metadata": {},
   "source": [
    "s1 = NAND(x1,x2)\n",
    "\n",
    "s2 = OR(x1,x2)\n",
    "\n",
    "y = AND(s1,s2)\n",
    "\n",
    "のようにしてXORを実現可能である。\n",
    "\n",
    "| $x_1$ | $x_2$ | $s_1$ |$s_2$ | y=XOR(x1,x2) |\n",
    "| ---- | ---- | ---- | ---- | ----| \n",
    "| 0| 0 | 1 | 0 | 0 |\n",
    "| 1| 0 | 1 | 1 | 1 |\n",
    "| 0| 1 | 1 | 1 | 1 |\n",
    "| 1| 1 | 0 | 1 | 0 |\n",
    "### 2.5.2 XORゲートの実装"
   ]
  },
  {
   "cell_type": "code",
   "execution_count": 2,
   "metadata": {},
   "outputs": [],
   "source": [
    "import numpy as np\n",
    "import matplotlib as pld\n",
    "\n",
    "# まず、AND, NAND,ORを実装\n",
    "def AND(x1, x2):\n",
    "    x = np.array([x1, x2])\n",
    "    w = np.array([0.5, 0.5])\n",
    "    b = -0.7\n",
    "    tmp = np.sum(w * x) + b\n",
    "    if tmp <= 0:\n",
    "        return 0\n",
    "    else:\n",
    "        return 1\n",
    "\n",
    "def NAND(x1, x2):\n",
    "    x = np.array([x1, x2])\n",
    "    w = np.array([-0.5, -0.5])\n",
    "    b = 0.7\n",
    "    tmp = np.sum(w * x) + b\n",
    "    if tmp <= 0:\n",
    "        return 0\n",
    "    else:\n",
    "        return 1\n",
    "\n",
    "def OR(x1, x2):\n",
    "    x = np.array([x1, x2])\n",
    "    w = np.array([0.5, 0.5])\n",
    "    b = -0.2\n",
    "    tmp = np.sum(w * x) + b\n",
    "    if tmp <= 0:\n",
    "        return 0\n",
    "    else:\n",
    "        return 1"
   ]
  },
  {
   "cell_type": "code",
   "execution_count": 3,
   "metadata": {},
   "outputs": [],
   "source": [
    "def XOR(x1, x2):\n",
    "    s1 = NAND(x1,x2)\n",
    "    s2 = OR(x1,x2)\n",
    "    y = AND(s1,s2)\n",
    "    return y"
   ]
  },
  {
   "cell_type": "code",
   "execution_count": 4,
   "metadata": {},
   "outputs": [
    {
     "name": "stdout",
     "output_type": "stream",
     "text": [
      "0\n",
      "1\n",
      "1\n",
      "0\n"
     ]
    }
   ],
   "source": [
    "print(XOR(0,0))\n",
    "print(XOR(1,0))\n",
    "print(XOR(0,1))\n",
    "print(XOR(1,1))"
   ]
  },
  {
   "cell_type": "markdown",
   "metadata": {},
   "source": [
    "試しに境界線を描画する"
   ]
  },
  {
   "cell_type": "code",
   "execution_count": 5,
   "metadata": {},
   "outputs": [
    {
     "data": {
      "image/png": "[encoded data removed]",
      "text/plain": [
       "<Figure size 432x288 with 1 Axes>"
      ]
     },
     "metadata": {
      "needs_background": "light"
     },
     "output_type": "display_data"
    }
   ],
   "source": [
    "import numpy as np\n",
    "from matplotlib import pyplot as plt\n",
    "import itertools\n",
    "\n",
    "if __name__ == \"__main__\":\n",
    "    xs_0 = np.array([[0, 0],[1,1]], dtype=np.float32)      # データ\n",
    "    xs_1 = np.array([[1, 0],[0, 1]], dtype=np.float32)\n",
    "\n",
    "    # グラフの描画 from https://teratail.com/questions/177319\n",
    "    fig, ax = plt.subplots()\n",
    "    ax.set_xticks([0, 1]), ax.set_yticks([0, 1])\n",
    "    ax.set_xlim(-0.5, 1.5), ax.set_ylim(-0.5, 1.5)\n",
    "\n",
    "    # サンプルを描画する。\n",
    "    ax.scatter(xs_0[:, 0], xs_0[:, 1], marker='o', s=30)\n",
    "    ax.scatter(xs_1[:, 0], xs_1[:, 1], marker='^', s=30)\n",
    "\n",
    "    # 各点の推論結果を得る。\n",
    "    X, Y = np.meshgrid(np.linspace(*ax.get_xlim(), 100),\n",
    "                       np.linspace(*ax.get_ylim(), 100))\n",
    "    XY = np.column_stack([X.ravel(), Y.ravel()])\n",
    "    Z = np.array([XOR(x[0], x[1]) for x in XY]).reshape(X.shape)\n",
    "\n",
    "    # 等高線を描画する。\n",
    "    ax.contourf(X, Y, Z, alpha=0.4, cmap='RdBu')\n",
    "\n",
    "    plt.show()"
   ]
  },
  {
   "cell_type": "markdown",
   "metadata": {},
   "source": [
    "ANDやORは単層パーセプトロンであったが、XORは多層パーセプトロン(2層)であると言える\n",
    "![XORのパーセプトロン表記](per.png)\n",
    "単層パーセプトロンで実現できなかったことがそうを深くすることで柔軟な表現が可能になった"
   ]
  }
 ],
 "metadata": {
  "kernelspec": {
   "display_name": "Python 3",
   "language": "python",
   "name": "python3"
  },
  "language_info": {
   "codemirror_mode": {
    "name": "ipython",
    "version": 3
   },
   "file_extension": ".py",
   "mimetype": "text/x-python",
   "name": "python",
   "nbconvert_exporter": "python",
   "pygments_lexer": "ipython3",
   "version": "3.7.0"
  }
 },
 "nbformat": 4,
 "nbformat_minor": 2
}
