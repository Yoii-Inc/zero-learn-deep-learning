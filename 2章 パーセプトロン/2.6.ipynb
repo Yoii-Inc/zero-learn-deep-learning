{
 "cells": [
  {
   "cell_type": "markdown",
   "metadata": {},
   "source": [
    "## 2.6 NANDからコンピューターへ\n",
    "\n",
    "コンピューターが行う処理は、NANDだけを用いて実現することができる。\n",
    "- OR, XOR, AND, NOTは全てNANDのみで構成可能\n",
    "\n",
    "理論上は、\n",
    "- 2層のパーセプトロンがあればコンピュータが作れる\n",
    "- 2層のパーセプトロン(関数に非線形なシグモイド関数を使用)があれば、任意の関数を表現可能\n",
    "\n",
    "ほどに、多層パーセプトロンには柔軟性がある。"
   ]
  }
 ],
 "metadata": {
  "kernelspec": {
   "display_name": "Python 3",
   "language": "python",
   "name": "python3"
  },
  "language_info": {
   "codemirror_mode": {
    "name": "ipython",
    "version": 3
   },
   "file_extension": ".py",
   "mimetype": "text/x-python",
   "name": "python",
   "nbconvert_exporter": "python",
   "pygments_lexer": "ipython3",
   "version": "3.7.0"
  }
 },
 "nbformat": 4,
 "nbformat_minor": 2
}
