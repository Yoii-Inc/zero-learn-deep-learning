{
 "cells": [
  {
   "cell_type": "markdown",
   "metadata": {},
   "source": [
    "## 2.4 パーセプトロンの限界\n",
    "\n",
    "### 2.4.1 XOR ゲート\n",
    "\n",
    "排他的論理和とも呼ばれる。どちらかが 1 の時だけ出力が 1 となる。\n",
    "\n",
    "| $x_1$ | $x_2$ | $y$ |\n",
    "| ---- | ---- | ---- |\n",
    "| 0 | 0 | 0 |\n",
    "| 1 | 0 | 1 |\n",
    "| 0 | 1 | 1 |\n",
    "| 1 | 1 | 0 |\n",
    "\n",
    "実は、これまで見てきたパーセプトロンでは、XOR を実現できない\n"
   ]
  },
  {
   "cell_type": "markdown",
   "metadata": {},
   "source": [
    "例として、OR の分類を行うグラフを描画する\n",
    "\n",
    "$$\n",
    "    y = \\begin{cases}\n",
    "    0 (-0.2 + 0.5x_1 + 0.5x_2 \\leq 0) \\\\\n",
    "    1 (-0.2 + 0.5x_1 + 0.5x_2 > 0)\n",
    "    \\end{cases}\n",
    "$$\n",
    "\n",
    "を可視化する\n"
   ]
  },
  {
   "cell_type": "code",
   "execution_count": 8,
   "metadata": {},
   "outputs": [
    {
     "data": {
      "image/png": "[encoded data removed]",
      "text/plain": [
       "<Figure size 432x288 with 1 Axes>"
      ]
     },
     "metadata": {
      "needs_background": "light"
     },
     "output_type": "display_data"
    }
   ],
   "source": [
    "import numpy as np\n",
    "from matplotlib import pyplot as plt\n",
    "import itertools\n",
    "\n",
    "\n",
    "def OR(x1, x2):\n",
    "\n",
    "    x = np.array([x1, x2])\n",
    "    w = np.array([0.5, 0.5])\n",
    "    b = -0.2\n",
    "    tmp = np.sum(w * x) + b\n",
    "    if tmp <= 0:\n",
    "        return 0\n",
    "    else:\n",
    "        return 1\n",
    "\n",
    "\n",
    "if __name__ == \"__main__\":\n",
    "    xs_0 = np.array([[0, 0]], dtype=np.float32)      # データ\n",
    "\n",
    "    xs_1 = np.array([[1, 0],\n",
    "                     [0, 1],\n",
    "                     [1, 1]], dtype=np.float32)\n",
    "\n",
    "    w = np.array([0, 0], dtype=np.float32)  # 重み\n",
    "    \n",
    "    # グラフの描画 from https://teratail.com/questions/177319\n",
    "    fig, ax = plt.subplots()\n",
    "    ax.set_xticks([0, 1]), ax.set_yticks([0, 1])\n",
    "    ax.set_xlim(-0.5, 1.5), ax.set_ylim(-0.5, 1.5)\n",
    "\n",
    "    # サンプルを描画する。\n",
    "    ax.scatter(xs_0[:, 0], xs_0[:, 1], marker='o', s=30)\n",
    "    ax.scatter(xs_1[:, 0], xs_1[:, 1], marker='^', s=30)\n",
    "\n",
    "    # 各点の推論結果を得る。\n",
    "    X, Y = np.meshgrid(np.linspace(*ax.get_xlim(), 100),\n",
    "                       np.linspace(*ax.get_ylim(), 100))\n",
    "    XY = np.column_stack([X.ravel(), Y.ravel()])\n",
    "    Z = np.array([OR(x[0], x[1]) for x in XY]).reshape(X.shape)\n",
    "\n",
    "    # 等高線を描画する。\n",
    "    ax.contourf(X, Y, Z, alpha=0.4, cmap='RdBu')\n",
    "\n",
    "    plt.show()\n"
   ]
  },
  {
   "cell_type": "markdown",
   "metadata": {},
   "source": [
    "分類の境界はこのように直線となるため、分類することができる。\n",
    "\n",
    "次にXORのグラフを見てみる"
   ]
  },
  {
   "cell_type": "code",
   "execution_count": 9,
   "metadata": {},
   "outputs": [
    {
     "data": {
      "image/png": "[encoded data removed]",
      "text/plain": [
       "<Figure size 432x288 with 1 Axes>"
      ]
     },
     "metadata": {
      "needs_background": "light"
     },
     "output_type": "display_data"
    }
   ],
   "source": [
    "import numpy as np\n",
    "from matplotlib import pyplot as plt\n",
    "\n",
    "if __name__ == \"__main__\":\n",
    "    xs_0 = np.array([[0, 0],[1, 1]], dtype=np.float32)      # データ\n",
    "    xs_1 = np.array([[1, 0],[0, 1],], dtype=np.float32)\n",
    "\n",
    "    fig, ax = plt.subplots()\n",
    "    ax.set_xticks([0, 1]), ax.set_yticks([0, 1])\n",
    "    ax.set_xlim(-0.5, 1.5), ax.set_ylim(-0.5, 1.5)\n",
    "    \n",
    "    # NANDの描画\n",
    "    ax.scatter(xs_0[:, 0], xs_0[:, 1], marker='o', s=30)\n",
    "    ax.scatter(xs_1[:, 0], xs_1[:, 1], marker='^', s=30)"
   ]
  },
  {
   "cell_type": "markdown",
   "metadata": {},
   "source": [
    "このような形は、1本の直線のみでは分類することはできない。\n",
    "### 2.4.1\n",
    "このような分類するためには、曲線が必要(非線形な領域ができる)"
   ]
  }
 ],
 "metadata": {
  "kernelspec": {
   "display_name": "Python 3",
   "language": "python",
   "name": "python3"
  },
  "language_info": {
   "codemirror_mode": {
    "name": "ipython",
    "version": 3
   },
   "file_extension": ".py",
   "mimetype": "text/x-python",
   "name": "python",
   "nbconvert_exporter": "python",
   "pygments_lexer": "ipython3",
   "version": "3.7.0"
  }
 },
 "nbformat": 4,
 "nbformat_minor": 2
}
