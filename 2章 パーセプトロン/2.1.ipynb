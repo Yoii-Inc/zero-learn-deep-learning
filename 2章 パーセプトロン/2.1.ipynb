{
 "cells": [
  {
   "cell_type": "markdown",
   "metadata": {},
   "source": [
    "# 2 パーセプトロン\n",
    "## 2.1 パーセプトロンとは\n",
    "\n",
    "- 複数の信号を入力として、一つの信号を出力する。\n",
    "- すべての信号は、流すか(1)流さないか(0)の2値の値である。\n",
    "- 信号のそれぞれに固有の重み(w)が乗算され、その総和が計算される。\n",
    "- 総和がある限界値($\\theta$)を超えた場合にのみ1を出力する。これを閾値と呼ぶ。\n",
    "\n",
    "$$\n",
    "y=\\begin{cases}\n",
    "0 & (w_1x_1+w_2x_2 \\leq \\theta)\\\\\n",
    "1 & (w_1x_1+w_2x_2 > \\theta)\n",
    "\\end{cases}\n",
    "$$"
   ]
  }
 ],
 "metadata": {
  "kernelspec": {
   "display_name": "Python 3",
   "language": "python",
   "name": "python3"
  },
  "language_info": {
   "codemirror_mode": {
    "name": "ipython",
    "version": 3
   },
   "file_extension": ".py",
   "mimetype": "text/x-python",
   "name": "python",
   "nbconvert_exporter": "python",
   "pygments_lexer": "ipython3",
   "version": "3.7.0"
  }
 },
 "nbformat": 4,
 "nbformat_minor": 2
}
