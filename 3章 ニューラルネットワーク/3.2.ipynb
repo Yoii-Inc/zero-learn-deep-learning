{
 "cells": [
  {
   "cell_type": "markdown",
   "metadata": {},
   "source": [
    "## 3.2 活性化関数\n",
    "- これまで利用していた活性化関数hは、閾値を境にして出力が切り替わる関数で、「ステップ関数」や「階段関数」と呼ばれる。"
   ]
  },
  {
   "cell_type": "markdown",
   "metadata": {},
   "source": [
    "### 3.2.2 ステップ関数の実装"
   ]
  },
  {
   "cell_type": "code",
   "execution_count": 28,
   "metadata": {},
   "outputs": [],
   "source": [
    "import numpy as np\n",
    "from matplotlib import pyplot as plt\n",
    "\n",
    "def step_function(x):\n",
    "    if x > 0:\n",
    "        return 1\n",
    "    else:\n",
    "        return 0\n",
    "\n",
    "# データ列に対して上を適用する場合、以下のようにも書ける\n",
    "def step_function_arr(x):\n",
    "    return np.array(x > 0, dtype=np.int)"
   ]
  },
  {
   "cell_type": "code",
   "execution_count": 29,
   "metadata": {},
   "outputs": [
    {
     "data": {
      "image/png": "[encoded data removed]",
      "text/plain": [
       "<Figure size 432x288 with 1 Axes>"
      ]
     },
     "metadata": {
      "needs_background": "light"
     },
     "output_type": "display_data"
    }
   ],
   "source": [
    "# 0.1間隔で-5.0から5.0までの配列を作る\n",
    "x = np.arange(-5.0,5.0,0.1)\n",
    "y_step = step_function_arr(x)\n",
    "\n",
    "plt.plot(x,y_step)\n",
    "plt.ylim(-0.1,1.1)\n",
    "plt.show()"
   ]
  },
  {
   "cell_type": "markdown",
   "metadata": {},
   "source": [
    "### 3.2.1 シグモイド関数\n",
    "ニューラルネットワークでは**シグモイド関数**が良く用いられる\n",
    "$$\n",
    "    h(x) = \\frac{1}{1+exp(-x)}\n",
    "$$"
   ]
  },
  {
   "cell_type": "markdown",
   "metadata": {},
   "source": [
    "### 3.2.4 シグモイド関数の実装"
   ]
  },
  {
   "cell_type": "code",
   "execution_count": 30,
   "metadata": {},
   "outputs": [],
   "source": [
    "#　配列にシグモイド関数を適用\n",
    "def sigmoid_arr(x):\n",
    "    return 1/(1+np.exp(-x))"
   ]
  },
  {
   "cell_type": "code",
   "execution_count": 31,
   "metadata": {},
   "outputs": [
    {
     "data": {
      "text/plain": [
       "array([0.26894142, 0.73105858, 0.88079708])"
      ]
     },
     "execution_count": 31,
     "metadata": {},
     "output_type": "execute_result"
    }
   ],
   "source": [
    "x = np.array([-1.0,1.0,2.0])\n",
    "sigmoid_arr(x)"
   ]
  },
  {
   "cell_type": "code",
   "execution_count": 32,
   "metadata": {},
   "outputs": [
    {
     "data": {
      "text/plain": [
       "array([1001., 1002., 1003.])"
      ]
     },
     "execution_count": 32,
     "metadata": {},
     "output_type": "execute_result"
    }
   ],
   "source": [
    "# スカラ + numpy配列で、配列の要素に一括で同じ値を足せる\n",
    "t = np.array([1.0,2.0,3.0])\n",
    "1000.0 + t"
   ]
  },
  {
   "cell_type": "code",
   "execution_count": 33,
   "metadata": {},
   "outputs": [
    {
     "data": {
      "image/png": "[encoded data removed]",
      "text/plain": [
       "<Figure size 432x288 with 1 Axes>"
      ]
     },
     "metadata": {
      "needs_background": "light"
     },
     "output_type": "display_data"
    }
   ],
   "source": [
    "# グラフの出力\n",
    "# 0.1間隔で-5.0から5.0までの配列を作る\n",
    "x = np.arange(-5.0,5.0,0.1)\n",
    "y = sigmoid_arr(x)\n",
    "\n",
    "plt.plot(x,y)\n",
    "plt.plot(x,y_step)\n",
    "plt.ylim(-0.1,1.1)\n",
    "plt.show()"
   ]
  },
  {
   "cell_type": "markdown",
   "metadata": {},
   "source": [
    "ステップ関数とシグモイド関数の比較\n",
    "- ステップ関数は急に出力が変わるが、シグモイド関数は滑らか\n",
    "- ステップ関数は0,1の2値しか取らないが、シグモイド関数は0より大きく1未満の実数を返す連続関数である\n",
    "- 非常に大きな値で1(付近)、非常に小さな値で0(付近)を取る"
   ]
  },
  {
   "cell_type": "markdown",
   "metadata": {},
   "source": [
    "### 3.2.6 非線形関数\n",
    "線形関数とは、一本の直線になる関数である。\n",
    "ステップ関数もシグモイド関数も、一本の直線にならない「非線形関数」である\n",
    "ニューラルネットワークでは、活性化関数として線形関数を用いると、多層にしても隠れ層のない単層ネットワークに置き換わってしまう\n",
    "\n",
    "例えば$h(x)=cx$として以下のような3層ネットワークを構成する\n",
    "$$\n",
    "    y(x)=h(h(h(x)))\n",
    "$$\n",
    "しかしこれを展開すると\n",
    "$$\n",
    "    y(x)=c(c(cx))) \\\\\n",
    "    =c^3x\n",
    "$$\n",
    "のような単純な別の活性化関数におきかわってしまう。"
   ]
  },
  {
   "cell_type": "markdown",
   "metadata": {},
   "source": [
    "### 3.2.7 ReLU関数\n",
    "\n",
    "Rectified Liner Unitの略　正規化線形Unit\n",
    "\n",
    "$$\n",
    "h(x) = \\begin{cases}\n",
    "x & (x>0) \\\\\n",
    "0 & (x \\leq 0)\n",
    "\\end{cases}\n",
    "$$"
   ]
  },
  {
   "cell_type": "code",
   "execution_count": 38,
   "metadata": {},
   "outputs": [
    {
     "data": {
      "image/png": "[encoded data removed]",
      "text/plain": [
       "<Figure size 432x288 with 1 Axes>"
      ]
     },
     "metadata": {
      "needs_background": "light"
     },
     "output_type": "display_data"
    }
   ],
   "source": [
    "\n",
    "def relu_arr(x):\n",
    "    return np.maximum(0,x)\n",
    "\n",
    "x = np.arange(-5.0,5.0,0.1)\n",
    "y = relu_arr(x)\n",
    "\n",
    "plt.plot(x,y)\n",
    "plt.show()"
   ]
  }
 ],
 "metadata": {
  "kernelspec": {
   "display_name": "Python 3",
   "language": "python",
   "name": "python3"
  },
  "language_info": {
   "codemirror_mode": {
    "name": "ipython",
    "version": 3
   },
   "file_extension": ".py",
   "mimetype": "text/x-python",
   "name": "python",
   "nbconvert_exporter": "python",
   "pygments_lexer": "ipython3",
   "version": "3.7.0"
  }
 },
 "nbformat": 4,
 "nbformat_minor": 2
}
