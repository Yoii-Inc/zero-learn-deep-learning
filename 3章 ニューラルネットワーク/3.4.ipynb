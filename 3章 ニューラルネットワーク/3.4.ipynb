{
 "cells": [
  {
   "cell_type": "markdown",
   "metadata": {},
   "source": [
    "## 3.4 多層ニューラルネットワークの実装\n",
    "### 3.4.2 各層における信号伝達の実装\n",
    "**入力層から第1層への信号の伝達**\n",
    "![](zeroto1.png)"
   ]
  },
  {
   "cell_type": "markdown",
   "metadata": {},
   "source": [
    "第1層を式で表すと、\n",
    "$$\n",
    "a_1 = x_1w_{11} +x_2w_{12} + b_1\\\\\n",
    "a_2 = x_1w_{21} +x_2w_{22} + b_2\\\\\n",
    "a_3 = x_1w_{31} +x_2w_{32} + b_3\n",
    "$$\n",
    "\n",
    "これを行列にすると\n",
    "$$X=[x_1,y_1]$$ $$B=[b_1,b_2,b_3]$$\n",
    "$$\n",
    "W=\\begin{bmatrix}\n",
    "w_{11} & w_{21}  & w_{31} \\\\\n",
    "w_{12} & w_{22} & w_{32} \\\\\n",
    "\\end{bmatrix}\n",
    "$$\n",
    "とおいて、\n",
    "$$\n",
    "A=[a_1,a_2,a_3]= XW+B\n",
    "$$\n",
    "となる\n",
    "\n",
    "Pythonで書くと以下のようになる"
   ]
  },
  {
   "cell_type": "code",
   "execution_count": 1,
   "metadata": {},
   "outputs": [
    {
     "name": "stdout",
     "output_type": "stream",
     "text": [
      "[0.3 0.7 0.8]\n"
     ]
    }
   ],
   "source": [
    "import numpy as np\n",
    "\n",
    "X1 = np.array([1.0, 0.5])                            # 入力層の値\n",
    "W1 = np.array([[0.1, 0.3, 0.5], [0.2, 0.4, 0.0]])    # 重み\n",
    "B1 = np.array([0.1, 0.2, 0.3])                       # バイアス\n",
    "\n",
    "A1 = np.dot(X1, W1) + B1                             # 入力 x 重み + バイアス\n",
    "print(A1)"
   ]
  },
  {
   "cell_type": "code",
   "execution_count": null,
   "metadata": {},
   "outputs": [],
   "source": [
    "最後に、$A$をシグモイド関数に入れる。"
   ]
  },
  {
   "cell_type": "code",
   "execution_count": 5,
   "metadata": {},
   "outputs": [
    {
     "name": "stdout",
     "output_type": "stream",
     "text": [
      "[0.57444252 0.66818777 0.68997448]\n"
     ]
    }
   ],
   "source": [
    "def sigmoid(x):\n",
    "    return 1/(1+np.exp(-x))\n",
    "\n",
    "Z1 = sigmoid(A1)    # 活性化関数による、入力 x 重み + バイアスに対する計算 = 第1層の値\n",
    "print(Z1)"
   ]
  },
  {
   "cell_type": "markdown",
   "metadata": {},
   "source": [
    "**第1層から第2層への信号の伝達**\n",
    "\n",
    "やることはほとんど同様"
   ]
  },
  {
   "cell_type": "code",
   "execution_count": 7,
   "metadata": {},
   "outputs": [
    {
     "name": "stdout",
     "output_type": "stream",
     "text": [
      "[0.62200664 0.76456201]\n"
     ]
    }
   ],
   "source": [
    "W2 = np.array([[0.1, 0.4], [0.2, 0.5], [0.3, 0.6]])  # 重み\n",
    "B2 = np.array([0.1, 0.2])                            # バイアス\n",
    "\n",
    "A2 = np.dot(Z1, W2) + B2                             # 第1層の値 x 重み + バイアス\n",
    "Z2 = sigmoid(A2)                                     # 第2層の値\n",
    "\n",
    "print(Z2)"
   ]
  },
  {
   "cell_type": "markdown",
   "metadata": {},
   "source": [
    "**第2層から出力層への信号の伝達**\n",
    "\n",
    "出力層では、活性化関数を適用しない（あるいは、活性化関数として恒等写像を適用する）"
   ]
  },
  {
   "cell_type": "code",
   "execution_count": 8,
   "metadata": {},
   "outputs": [
    {
     "name": "stdout",
     "output_type": "stream",
     "text": [
      "[0.31511307 0.6924268 ]\n"
     ]
    }
   ],
   "source": [
    "W3 = np.array([[0.1, 0.3], [0.2, 0.4]])   # 重み\n",
    "B3 = np.array([0.1, 0.2])                 # バイアス\n",
    "\n",
    "A3 = np.dot(Z2, W3) + B3                  # 第2層の値 x 重み + バイアス\n",
    "\n",
    "Y = A3 # 恒等写像\n",
    "print(Y)"
   ]
  }
 ],
 "metadata": {
  "kernelspec": {
   "display_name": "Python 3",
   "language": "python",
   "name": "python3"
  },
  "language_info": {
   "codemirror_mode": {
    "name": "ipython",
    "version": 3
   },
   "file_extension": ".py",
   "mimetype": "text/x-python",
   "name": "python",
   "nbconvert_exporter": "python",
   "pygments_lexer": "ipython3",
   "version": "3.7.0"
  }
 },
 "nbformat": 4,
 "nbformat_minor": 2
}
