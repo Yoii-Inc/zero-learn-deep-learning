{
 "cells": [
  {
   "cell_type": "markdown",
   "metadata": {},
   "source": [
    "## 3.3 多次元配列の計算\n",
    "### 3.3.3 ニューラルネットワークのための行列の積\n",
    "例えば、2つの入力$x_1,x_2$から3つの出力$y1,y2,y3$を得る場合、\n",
    "\n",
    "重みは$2 \\times 3 =6$つ必要となる\n",
    "\n",
    "$$\n",
    "y_1 = x_1w_{11} +x_2w_{12} \\\\\n",
    "y_2 = x_1w_{21} +x_2w_{22} \\\\\n",
    "y_3 = x_1w_{31} +x_2w_{32}\n",
    "$$"
   ]
  },
  {
   "cell_type": "markdown",
   "metadata": {},
   "source": [
    "$Y = [y_1,y_2,y_3]$とすると、\n",
    "$$\n",
    "Y=[x_1w_{11} +x_2w_{12},x_1w_{21} +x_2w_{22},x_1w_{31} +x_2w_{32}]\\\\\n",
    "=[x_1,x_2]\\begin{bmatrix}\n",
    "w_{11} & w_{21}  & w_{31} \\\\\n",
    "w_{12} & w_{22} & w_{32} \\\\\n",
    "\\end{bmatrix}\n",
    "= X \\times W\n",
    "$$\n",
    "のように、行列の積に置き換えて計算することができる。\n",
    "\n",
    "ここで、Xの列数(2行)とWの行数(2)は一致しなければならないことに注意\n",
    "\n",
    "これをnumpyで実装すると以下のようになる"
   ]
  },
  {
   "cell_type": "code",
   "execution_count": 1,
   "metadata": {},
   "outputs": [
    {
     "name": "stdout",
     "output_type": "stream",
     "text": [
      "X.shape = (1, 2)\n",
      "W = [[1 3 5]\n",
      " [2 4 6]]\n",
      "W.shape = (2, 3)\n",
      "Y = [[ 5 11 17]]\n",
      "Y.shape = (1, 3)\n"
     ]
    }
   ],
   "source": [
    "import numpy as np\n",
    "\n",
    "X = np.array([[1, 2]])                 # 1 x 2の行列\n",
    "print( f'X.shape = {X.shape}')\n",
    "\n",
    "W = np.array([[1, 3, 5], [2, 4, 6]]) # 2 x 3の行列\n",
    "print( f'W = {W}')\n",
    "print( f'W.shape = {W.shape}')\n",
    "\n",
    "Y = np.dot(X, W)                    # 行列積。1 x 3 の行列\n",
    "print( f'Y = {Y}')\n",
    "print( f'Y.shape = {Y.shape}')"
   ]
  }
 ],
 "metadata": {
  "kernelspec": {
   "display_name": "Python 3",
   "language": "python",
   "name": "python3"
  },
  "language_info": {
   "codemirror_mode": {
    "name": "ipython",
    "version": 3
   },
   "file_extension": ".py",
   "mimetype": "text/x-python",
   "name": "python",
   "nbconvert_exporter": "python",
   "pygments_lexer": "ipython3",
   "version": "3.7.0"
  }
 },
 "nbformat": 4,
 "nbformat_minor": 2
}
