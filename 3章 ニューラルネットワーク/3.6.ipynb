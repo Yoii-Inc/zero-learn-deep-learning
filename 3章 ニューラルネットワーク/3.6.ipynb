{
 "cells": [
  {
   "cell_type": "markdown",
   "metadata": {},
   "source": [
    "## 3.6 手書き数字認識\n",
    "学習済みのモデルを用いた推論処理を実装する\n",
    "\n",
    "### 3.6.1 MNISTデータセット\n",
    "0から9までの数字画像からなるデータセット\n",
    "- 訓練画像60000枚、テスト画像10000枚\n",
    "- 28px x 28px\n",
    "- 各ピクセルの値(明度)は0-255のグレースケール"
   ]
  },
  {
   "cell_type": "code",
   "execution_count": 2,
   "metadata": {},
   "outputs": [
    {
     "name": "stdout",
     "output_type": "stream",
     "text": [
      "(60000, 784)\n",
      "(60000,)\n",
      "(10000, 784)\n",
      "(10000,)\n"
     ]
    }
   ],
   "source": [
    "import sys, os\n",
    "sys.path.append('../deep-learning-from-scratch')  # 親ディレクトリのファイルをインポートするための設定\n",
    "from dataset.mnist import load_mnist\n",
    "\n",
    "# 最初の呼び出しは時間がかかる\n",
    "(x_train, t_train), (x_test, t_test) = load_mnist(flatten=True, normalize=False)\n",
    "# データ形式の出力\n",
    "print(x_train.shape)\n",
    "print(t_train.shape)\n",
    "print(x_test.shape)\n",
    "print(t_test.shape)"
   ]
  },
  {
   "cell_type": "markdown",
   "metadata": {},
   "source": [
    "- 各画像は、28x28=784行のベクトルで表されている\n",
    "- x_train, t_trainは訓練データの画像・正解データ\n",
    "- x_test, t_testは訓練データの画像・正解データ\n",
    "\n",
    "t_train,t_testは、0から10までの値を取る(画像が表す数字の正解)が、以下のようにone_hot表現で取得することも可能である\n",
    "\n",
    "one_hot表現とは、`[0, 0, 0, 0, 0, 1, 0, 0, 0, 0]`のように正解となるラベルが1(この場合は5が正解)で、それ以外が0の配列"
   ]
  },
  {
   "cell_type": "code",
   "execution_count": 3,
   "metadata": {},
   "outputs": [
    {
     "name": "stdout",
     "output_type": "stream",
     "text": [
      "(60000, 784)\n",
      "(60000, 10)\n",
      "(10000, 784)\n",
      "(10000, 10)\n",
      "[0. 0. 0. 0. 0. 1. 0. 0. 0. 0.]\n"
     ]
    }
   ],
   "source": [
    "import sys, os\n",
    "import numpy as np\n",
    "sys.path.append('../deep-learning-from-scratch')  # 親ディレクトリのファイルをインポートするための設定\n",
    "from dataset.mnist import load_mnist\n",
    "\n",
    "(x_train, t_train), (x_test, t_test) = load_mnist(flatten=True, normalize=False, one_hot_label=True)\n",
    "\n",
    "# データ形式の出力\n",
    "print(x_train.shape)\n",
    "print(t_train.shape)\n",
    "print(x_test.shape)\n",
    "print(t_test.shape)\n",
    "\n",
    "# 試しに1つ表示\n",
    "print(t_train[0])"
   ]
  },
  {
   "cell_type": "code",
   "execution_count": 4,
   "metadata": {},
   "outputs": [
    {
     "name": "stdout",
     "output_type": "stream",
     "text": [
      "5\n",
      "(784,)\n",
      "(28, 28)\n"
     ]
    }
   ],
   "source": [
    "import sys, os\n",
    "sys.path.append('../deep-learning-from-scratch')  # 親ディレクトリのファイルをインポートするための設定\n",
    "import matplotlib.pyplot as plt\n",
    "import numpy as np\n",
    "from dataset.mnist import load_mnist\n",
    "from PIL import Image\n",
    "\n",
    "\n",
    "def img_show(img):\n",
    "    pil_img = Image.fromarray(np.uint8(img))\n",
    "    # jupyter labで表示するために、少し変えている。グレースケールで表示。\n",
    "    plt.imshow(pil_img,cmap='gray')\n",
    "\n",
    "(x_train, t_train), (x_test, t_test) = load_mnist(flatten=True, normalize=False)\n",
    "\n",
    "img = x_train[0]\n",
    "label = t_train[0]\n",
    "print(label)  # 5\n",
    "\n",
    "print(img.shape)  # (784,)\n",
    "img = img.reshape(28, 28)  # 形状を元の画像サイズに変形\n",
    "print(img.shape)  # (28, 28)\n",
    "\n",
    "img_show(img)"
   ]
  },
  {
   "cell_type": "markdown",
   "metadata": {},
   "source": [
    "### 3.6.2 ニューラルネットワークの推論処理\n",
    "- 入力層は784(28*28), 出力層が10個のニューラルネットワークを実装する"
   ]
  },
  {
   "cell_type": "code",
   "execution_count": 5,
   "metadata": {},
   "outputs": [],
   "source": [
    "import sys, os\n",
    "import numpy as np\n",
    "import pickle\n",
    "sys.path.append('../deep-learning-from-scratch')  # 親ディレクトリのファイルをインポートするための設定\n",
    "from dataset.mnist import load_mnist\n",
    "\n",
    "def sigmoid(x):\n",
    "    return 1/(1+np.exp(-x))\n",
    "\n",
    "def softmax(a_big):\n",
    "    c = np.max(a_big)\n",
    "    a = a_big - c\n",
    "    exp_a = np.exp(a)\n",
    "    sum_exp_a = np.sum(exp_a)\n",
    "    y = exp_a / sum_exp_a\n",
    "    return y\n",
    "\n",
    "def get_data():\n",
    "    (x_train, t_train), (x_test, t_test) = load_mnist(flatten=True, normalize=False, one_hot_label=False)\n",
    "    return x_test,t_test\n",
    "\n",
    "# pickleという機能を用いることにより、実行中のオブジェクトをファイルとして保存することが出来る\n",
    "# pickleファイルをロードすることにより、実行中のオブジェクトを即座に復元できる\n",
    "def init_network():\n",
    "    with open(\"../deep-learning-from-scratch/ch03/sample_weight.pkl\",'rb') as f:\n",
    "        network = pickle.load(f)\n",
    "    return network\n",
    "\n",
    "def predict(network,x):\n",
    "    #　各層の重み\n",
    "    W1,W2,W3 = network['W1'], network['W2'],network['W3']\n",
    "    #　各層のバイアス\n",
    "    b1,b2,b3 = network['b1'], network['b2'],network['b3']\n",
    "    \n",
    "    # 第一層の推論\n",
    "    a1 = np.dot(x,W1) + b1\n",
    "    z1 = sigmoid(a1)\n",
    "    \n",
    "    # 第二層の推論\n",
    "    a2 = np.dot(z1,W2) + b2\n",
    "    z2 = sigmoid(a2)\n",
    "    \n",
    "    # 出力層の推論\n",
    "    a3 = np.dot(z2,W3) + b3\n",
    "    # 分類なのでsoftmaxを用いている\n",
    "    y = softmax(a3)\n",
    "    return y"
   ]
  },
  {
   "cell_type": "code",
   "execution_count": 16,
   "metadata": {},
   "outputs": [
    {
     "name": "stdout",
     "output_type": "stream",
     "text": [
      "Estimation takes 0.5642928219999703 seconds\n",
      "Accuracy: 0.9207\n"
     ]
    }
   ],
   "source": [
    "x, t = get_data()\n",
    "network = init_network()\n",
    "\n",
    "# 正解数\n",
    "accuracy_cnt = 0\n",
    "\n",
    "#ループの時間計測\n",
    "start = time.perf_counter()\n",
    "\n",
    "for i in range(len(x)):\n",
    "    y = predict(network,x[i])\n",
    "    p = np.argmax(y) #最も確率が高い要素のインデックスを取得\n",
    "    if p == t[i]:\n",
    "        accuracy_cnt += 1\n",
    "\n",
    "print(f\"Estimation takes {time.perf_counter() - start} seconds\")\n",
    "\n",
    "print(\"Accuracy: \"+ str(float(accuracy_cnt)/len(x)))\n",
    "\n"
   ]
  },
  {
   "cell_type": "markdown",
   "metadata": {},
   "source": [
    "分類の正解率は92.07%となった\n",
    "\n",
    "- `normalize=True` としているのは、0-255であった各ピクセルの値を255で除算して、0.0-1.0の範囲に収まるようにしている\n",
    "- このような、ある範囲にデータが収まるようにする処理を、**正規化**という。\n",
    "- 一般的に、入力データに対して何かしらの決まった変換を行うことを**前処理**と言う\n",
    "\n",
    "### 3.6.3 バッチ処理\n",
    "推論を複数の入力に対してまとめて行いたい場合を考える。\n",
    "\n",
    "入力と重みにの形状(行列の次元)に注目してみる"
   ]
  },
  {
   "cell_type": "code",
   "execution_count": 7,
   "metadata": {},
   "outputs": [
    {
     "name": "stdout",
     "output_type": "stream",
     "text": [
      "(10000, 784)\n",
      "(1, 784)\n",
      "(784, 50)\n",
      "(50, 100)\n",
      "(100, 10)\n"
     ]
    }
   ],
   "source": [
    "x, _ = get_data()\n",
    "network = init_network()\n",
    "W1,W2,W3 = network['W1'], network['W2'],network['W3']\n",
    "\n",
    "print(x.shape)\n",
    "# (10000, 784)\n",
    "print(x[0:1].shape)\n",
    "# xのうち1列を取り出す\n",
    "# (0, 784)\n",
    "print(W1.shape)\n",
    "# (784, 50)\n",
    "print(W2.shape)\n",
    "# (50, 100)\n",
    "print(W3.shape)\n",
    "# (100, 10)"
   ]
  },
  {
   "cell_type": "markdown",
   "metadata": {},
   "source": [
    "1つの画像を入力とした推論の形状は、以下のようになる\n",
    "- $X: 1\\times784$\n",
    "- $W_1: 784\\times 50$\n",
    "- $W_2: 50\\times 100$\n",
    "- $W_3: 100\\times 10$\n",
    "- $Y: 1 \\times 10$\n",
    "\n",
    "順番に掛け算を行うと、\n",
    "\n",
    "$X: 1\\times784$\n",
    "\n",
    "-> $XW_1: 1\\times 50$\n",
    "\n",
    "-> $XW_1W_2: 1\\times 100$\n",
    "\n",
    "-> $Y=XW_1W_2W_3: 1\\times 10$\n",
    "\n",
    "ただし、100枚分の画像を列として並べてXの形状を$100 \\times 784$とすると、100枚分のデータをまとめて処理することができる。\n",
    "\n",
    "順番に掛け算を行うと、\n",
    "\n",
    "$X: 100\\times784$\n",
    "\n",
    "-> $XW_1: 100\\times 50$\n",
    "\n",
    "-> $XW_1W_2: 100\\times 100$\n",
    "\n",
    "-> $Y=XW_1W_2W_3: 100\\times 10$\n",
    "\n",
    "これを実装する。"
   ]
  },
  {
   "cell_type": "code",
   "execution_count": 15,
   "metadata": {},
   "outputs": [
    {
     "name": "stdout",
     "output_type": "stream",
     "text": [
      "Estimation takes 0.050473719000024175 seconds\n",
      "Accuracy: 0.9207\n"
     ]
    }
   ],
   "source": [
    "import time\n",
    "\n",
    "x, _ = get_data()\n",
    "network = init_network()\n",
    "\n",
    "batch_size = 100\n",
    "accuracy_cnt = 0\n",
    "\n",
    "#ループの時間計測\n",
    "start = time.perf_counter()\n",
    "\n",
    "for i in range(0,len(x),batch_size): # i が batch_size=100ずつ増える。len(x)=10000を超えないまで\n",
    "    x_batch = x[i:i+batch_size]    # 100件分の入力 (100,784)\n",
    "    y_batch = predict(network,x_batch)    # 100件分の推論結果 (100,1)\n",
    "\n",
    "    p = np.argmax(y_batch, axis = 1)     # 1次元目を軸として(列ごとに)最大値を計算する。要素100個の配列になる\n",
    "    accuracy_cnt += np.sum(p == t[i:i+batch_size])     # True, Falseからなる配列(pと一致する時にTrue)を作成し、和を取ることで正解数がわかる\n",
    "\n",
    "print(f\"Estimation takes {time.perf_counter() - start} seconds\")\n",
    "\n",
    "print(\"Accuracy: \"+ str(float(accuracy_cnt)/len(x)))\n",
    "\n"
   ]
  },
  {
   "cell_type": "markdown",
   "metadata": {},
   "source": [
    "結果は同じだが、for文を回す回数が少なくなるため推論が早くなる。(この場合は10倍の実行速度)\n",
    "- バッチなし：0.564秒\n",
    "- バッチ100件ずつ：0.0504秒"
   ]
  },
  {
   "cell_type": "markdown",
   "metadata": {},
   "source": []
  }
 ],
 "metadata": {
  "kernelspec": {
   "display_name": "Python 3",
   "language": "python",
   "name": "python3"
  },
  "language_info": {
   "codemirror_mode": {
    "name": "ipython",
    "version": 3
   },
   "file_extension": ".py",
   "mimetype": "text/x-python",
   "name": "python",
   "nbconvert_exporter": "python",
   "pygments_lexer": "ipython3",
   "version": "3.7.0"
  }
 },
 "nbformat": 4,
 "nbformat_minor": 2
}
