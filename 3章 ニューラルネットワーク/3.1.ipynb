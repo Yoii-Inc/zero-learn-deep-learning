{
 "cells": [
  {
   "cell_type": "markdown",
   "metadata": {},
   "source": [
    "# 3 ニューラルネットワーク\n",
    "## 3.1 パーセプトロンからニューラルネットワークへ\n",
    "### 3.1.1 ニューラルネットワークの例\n",
    "- 左から順に、入力層、中間層、出力層と呼ばれる\n",
    "- 本書では、第0層、第1層、第2層とよぶ\n",
    "- 中間層は隠れ層とも言う。\n",
    "![ニューラルネットワークの例](pers.png)"
   ]
  },
  {
   "cell_type": "markdown",
   "metadata": {},
   "source": [
    "### 3.1.2 パーセプトロンの復習\n",
    "パーセプトロンの式\n",
    "$$\n",
    "    y=\\begin{cases}\n",
    "0 & (b + w_1x_1+w_2x_2 \\leq 0)\\\\\n",
    "1 & (b+ w_1x_1+w_2x_2 > 0)\n",
    "\\end{cases}\n",
    "$$\n",
    "は、**活性化関数**\n",
    "$$\n",
    "    h(x)=\\begin{cases}\n",
    "        0 & (x\\leq 0)\\\\\n",
    "        1 & (x> 0)\n",
    "       \\end{cases}\n",
    "$$\n",
    "を用いて、\n",
    "\n",
    "$$\n",
    "    y=h(b+w_1x_1+w_2x_2)\n",
    "$$\n",
    "\n",
    "と書き換えることができる。\n",
    "\n",
    "\n",
    "バイアス$b$を、入力信号1に対する重みと捉えてこれを図示すると、以下のようになる\n",
    "![ニューラルネットワークの例](pers2.png)"
   ]
  }
 ],
 "metadata": {
  "kernelspec": {
   "display_name": "Python 3",
   "language": "python",
   "name": "python3"
  },
  "language_info": {
   "codemirror_mode": {
    "name": "ipython",
    "version": 3
   },
   "file_extension": ".py",
   "mimetype": "text/x-python",
   "name": "python",
   "nbconvert_exporter": "python",
   "pygments_lexer": "ipython3",
   "version": "3.7.0"
  }
 },
 "nbformat": 4,
 "nbformat_minor": 2
}
