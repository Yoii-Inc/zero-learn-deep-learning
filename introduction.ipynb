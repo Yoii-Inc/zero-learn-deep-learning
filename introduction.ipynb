{
 "cells": [
  {
   "cell_type": "markdown",
   "metadata": {},
   "source": [
    "- 一回あたり2h程度の時間を取ります\n",
    "- 資料中に、数式による説明とソースコードを併記します。jupyter上で実行できます。\n",
    "- 発表担当は、持ち回りを想定しています(発表形式は自由です)\n",
    "- 次回開催は4/21(木)の19:00〜21:00予定です"
   ]
  },
  {
   "cell_type": "code",
   "execution_count": null,
   "metadata": {},
   "outputs": [],
   "source": []
  }
 ],
 "metadata": {
  "kernelspec": {
   "display_name": "Python 3",
   "language": "python",
   "name": "python3"
  },
  "language_info": {
   "codemirror_mode": {
    "name": "ipython",
    "version": 3
   },
   "file_extension": ".py",
   "mimetype": "text/x-python",
   "name": "python",
   "nbconvert_exporter": "python",
   "pygments_lexer": "ipython3",
   "version": "3.7.0"
  }
 },
 "nbformat": 4,
 "nbformat_minor": 2
}
