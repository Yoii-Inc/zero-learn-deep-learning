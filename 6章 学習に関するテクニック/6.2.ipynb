{
 "cells": [
  {
   "cell_type": "markdown",
   "metadata": {},
   "source": [
    "## 6.2 重みの初期値\n",
    "\n",
    "重みの初期値としてどのような値を設定するかで、ニューラルネットワークの学習の成否が分かれることがよくある、\n",
    "\n",
    "### 6.2.1 重みの初期値を0にすると？\n",
    "- 重みの初期値は、これまで`0.01 * np.random.randn(10,100)`のように、標準偏差が0.01のガウス分布を用いていた。\n",
    "- 重みの初期値を全て0にするのはよくない\n",
    "- より正確には、重みを均一な値に設定してはいけない。全ての重みが、全く同じように更新されてしまう。重みの数を増やす意味がなくなってしまう\n",
    "\n",
    "重みの対称的な構造を崩すために、ランダムな初期値が必要となる。\n"
   ]
  },
  {
   "cell_type": "markdown",
   "metadata": {},
   "source": [
    "### 6.2.2 隠れ層のアクティベーション分布\n",
    "最終的な出力ではなく、隠れ層のアクティベーション(活性化関数の後の出力データ)の分布を観察すると、多くの知見が得られる。"
   ]
  },
  {
   "cell_type": "code",
   "execution_count": 23,
   "metadata": {},
   "outputs": [
    {
     "data": {
      "image/png": "[encoded data removed]",
      "text/plain": [
       "<Figure size 432x288 with 5 Axes>"
      ]
     },
     "metadata": {
      "needs_background": "light"
     },
     "output_type": "display_data"
    }
   ],
   "source": [
    "# coding: utf-8\n",
    "import numpy as np\n",
    "import matplotlib.pyplot as plt\n",
    "\n",
    "\n",
    "def sigmoid(x):\n",
    "    return 1 / (1 + np.exp(-x))\n",
    "\n",
    "\n",
    "def ReLU(x):\n",
    "    return np.maximum(0, x)\n",
    "\n",
    "\n",
    "def tanh(x):\n",
    "    return np.tanh(x)\n",
    "    \n",
    "input_data = np.random.randn(1000, 100)  # 1000個のデータ\n",
    "node_num = 100  # 各隠れ層のノード（ニューロン）の数\n",
    "hidden_layer_size = 5  # 隠れ層が5層\n",
    "activations = {}  # ここにアクティベーションの結果を格納する\n",
    "\n",
    "x = input_data\n",
    "\n",
    "for i in range(hidden_layer_size):\n",
    "    if i != 0:\n",
    "        x = activations[i-1]\n",
    "\n",
    "    # 初期値の値をいろいろ変えて実験しよう！\n",
    "#     w = np.random.randn(node_num, node_num) * 1\n",
    "#     w = np.random.randn(node_num, node_num) * 0.01\n",
    "    w = np.random.randn(node_num, node_num) * np.sqrt(1.0 / node_num)\n",
    "    # w = np.random.randn(node_num, node_num) * np.sqrt(2.0 / node_num)\n",
    "\n",
    "\n",
    "    a = np.dot(x, w)\n",
    "\n",
    "\n",
    "    # 活性化関数の種類も変えて実験しよう！\n",
    "#     z = sigmoid(a)\n",
    "    # z = ReLU(a)\n",
    "    z = tanh(a)\n",
    "\n",
    "    activations[i] = z\n",
    "\n",
    "# ヒストグラムを描画\n",
    "for i, a in activations.items():\n",
    "    plt.subplot(1, len(activations), i+1)\n",
    "    plt.title(str(i+1) + \"-layer\")\n",
    "    if i != 0: plt.yticks([], [])\n",
    "    # plt.xlim(0.1, 1)\n",
    "    # plt.ylim(0, 7000)\n",
    "    plt.hist(a.flatten(), 30, range=(0,1))\n",
    "plt.show()"
   ]
  },
  {
   "cell_type": "markdown",
   "metadata": {},
   "source": [
    "- シグモイド関数において、アクティベーションが0と1に偏った分布になってしまう。シグモイド関数においては出力が0,1付近で傾きが0に強く近づいてしまうため、学習が進まない。これは**勾配消失**と呼ばれる問題である。\n",
    "- 重みの標準偏差を0.01の正規分布とした場合、アクティベーションは0.5に集中した。勾配消失は怒らないが、**表現力が劣る**(上述と同じ問題。重みの初期値がほぼ同じで対称性を持ってしまっているため。)"
   ]
  },
  {
   "cell_type": "markdown",
   "metadata": {},
   "source": [
    "「Xavierの初期値」を用いる。前の層のノードの個数をnとした場合に、$\\frac{1}{\\sqrt n}$の標準偏差を持つ分布を使う。"
   ]
  },
  {
   "cell_type": "markdown",
   "metadata": {},
   "source": [
    "勾配消失はシグモイド特有の問題。6-13 は、sigmoidの代わりにtanh関数を使うと改善される。"
   ]
  },
  {
   "cell_type": "markdown",
   "metadata": {},
   "source": [
    "### 6.2.3 ReLUの場合の重みの初期値\n",
    "- 「Heの初期値」を用いる。前の層のノードの個数をnとした場合に、$\\frac{2}{\\sqrt n}$の標準偏差を持つ分布を使う。\n",
    "- 直感的には、ReLUは負の領域がゼロであるため、2倍の広がりを持たせる必要がある\n",
    "\n",
    "### 6.2.4 MNISTデータセットによる重みの初期値の比較\n",
    "<img src=\"activation-distribution.jpg\" alt=\"drawing\" width=\"500\"/>\n"
   ]
  }
 ],
 "metadata": {
  "kernelspec": {
   "display_name": "Python 3",
   "language": "python",
   "name": "python3"
  },
  "language_info": {
   "codemirror_mode": {
    "name": "ipython",
    "version": 3
   },
   "file_extension": ".py",
   "mimetype": "text/x-python",
   "name": "python",
   "nbconvert_exporter": "python",
   "pygments_lexer": "ipython3",
   "version": "3.7.0"
  }
 },
 "nbformat": 4,
 "nbformat_minor": 2
}
